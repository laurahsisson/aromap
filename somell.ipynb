{
 "cells": [
  {
   "cell_type": "code",
   "execution_count": 1,
   "id": "d7caa1ee-c8d1-4279-ba0b-fe43d31a80c2",
   "metadata": {},
   "outputs": [],
   "source": [
    "import torch\n",
    "import os\n",
    "import json\n",
    "import tqdm\n",
    "import collections\n",
    "import random\n",
    "import matplotlib.pyplot as plt\n",
    "import numpy as np\n",
    "import sklearn.model_selection"
   ]
  },
  {
   "cell_type": "code",
   "execution_count": 2,
   "id": "3e3e7ecc-bf3c-4421-b545-e2413e1ffef2",
   "metadata": {},
   "outputs": [
    {
     "name": "stderr",
     "output_type": "stream",
     "text": [
      "100%|███████████████████████████████████| 19194/19194 [00:02<00:00, 7016.54it/s]"
     ]
    },
    {
     "name": "stdout",
     "output_type": "stream",
     "text": [
      "Found 3440 molecules.\n"
     ]
    },
    {
     "name": "stderr",
     "output_type": "stream",
     "text": [
      "\n"
     ]
    },
    {
     "data": {
      "text/plain": [
       "[{'name': 'amyl butyrate',\n",
       "  'smiles': 'CCCCCOC(=O)CCC',\n",
       "  'notes': {'banana', 'cherry', 'fruity', 'pineapple', 'sweet', 'tropical'}},\n",
       " {'name': 'para-anisyl phenyl acetate',\n",
       "  'smiles': 'COC1=CC=C(C=C1)COC(=O)CC2=CC=CC=C2',\n",
       "  'notes': {'anise', 'balsamic', 'honey', 'woody'}},\n",
       " {'name': 'dihydrofarnesol',\n",
       "  'smiles': 'CC(CC/C=C(\\\\C)/CCC=C(C)C)CCO',\n",
       "  'notes': {'cyclamen', 'floral', 'metallic'}}]"
      ]
     },
     "execution_count": 2,
     "metadata": {},
     "output_type": "execute_result"
    }
   ],
   "source": [
    "fnames = os.listdir(\"data\")\n",
    "fields = ['name','smiles','notes']\n",
    "molecules = []\n",
    "for fname in tqdm.tqdm(fnames):\n",
    "    with open(os.path.join(\"data\",fname)) as f:\n",
    "        mol = json.load(f)\n",
    "        data = {k:mol[k] for k in fields}\n",
    "        # Check that the molecule has all the fields of interest\n",
    "        if all(data.values()):\n",
    "            molecules.append(data)\n",
    "\n",
    "# Have to de-dupe the notes for each molecule.\n",
    "for mol in molecules:\n",
    "    mol[\"notes\"] = set(mol[\"notes\"])\n",
    "    \n",
    "print(f\"Found {len(molecules)} molecules.\")\n",
    "molecules[:3]"
   ]
  },
  {
   "cell_type": "code",
   "execution_count": 3,
   "id": "5c66a2a2-87b0-4286-8a5f-5187eaf35adc",
   "metadata": {},
   "outputs": [
    {
     "name": "stdout",
     "output_type": "stream",
     "text": [
      "Found 502 unique notes.\n",
      "Most common:\n",
      "[('fruity', 1060), ('green', 967), ('sweet', 884), ('floral', 706), ('woody', 558)]\n"
     ]
    }
   ],
   "source": [
    "all_notes = collections.Counter()\n",
    "for mol in molecules:\n",
    "    all_notes.update(mol[\"notes\"])\n",
    "print(f\"Found {len(all_notes)} unique notes.\")\n",
    "print(\"Most common:\")\n",
    "print(all_notes.most_common(5))"
   ]
  },
  {
   "cell_type": "code",
   "execution_count": 4,
   "id": "f148c8ac-c1f6-4d09-b924-acff25f0405f",
   "metadata": {},
   "outputs": [
    {
     "name": "stdout",
     "output_type": "stream",
     "text": [
      "{'name': 'amyl butyrate', 'smiles': 'CCCCCOC(=O)CCC', 'notes': {'fruity', 'cherry', 'pineapple', 'banana', 'tropical', 'sweet'}, 'encoding': tensor([1., 1., 1., 1., 1., 1., 0., 0., 0., 0., 0., 0., 0., 0., 0., 0., 0., 0.,\n",
      "        0., 0., 0., 0., 0., 0., 0., 0., 0., 0., 0., 0., 0., 0., 0., 0., 0., 0.,\n",
      "        0., 0., 0., 0., 0., 0., 0., 0., 0., 0., 0., 0., 0., 0., 0., 0., 0., 0.,\n",
      "        0., 0., 0., 0., 0., 0., 0., 0., 0., 0., 0., 0., 0., 0., 0., 0., 0., 0.,\n",
      "        0., 0., 0., 0., 0., 0., 0., 0., 0., 0., 0., 0., 0., 0., 0., 0., 0., 0.,\n",
      "        0., 0., 0., 0., 0., 0., 0., 0., 0., 0., 0., 0., 0., 0., 0., 0., 0., 0.,\n",
      "        0., 0., 0., 0., 0., 0., 0., 0., 0., 0., 0., 0., 0., 0., 0., 0., 0., 0.,\n",
      "        0., 0., 0., 0., 0., 0., 0., 0., 0., 0., 0., 0., 0., 0., 0., 0., 0., 0.,\n",
      "        0., 0., 0., 0., 0., 0., 0., 0., 0., 0., 0., 0., 0., 0., 0., 0., 0., 0.,\n",
      "        0., 0., 0., 0., 0., 0., 0., 0., 0., 0., 0., 0., 0., 0., 0., 0., 0., 0.,\n",
      "        0., 0., 0., 0., 0., 0., 0., 0., 0., 0., 0., 0., 0., 0., 0., 0., 0., 0.,\n",
      "        0., 0., 0., 0., 0., 0., 0., 0., 0., 0., 0., 0., 0., 0., 0., 0., 0., 0.,\n",
      "        0., 0., 0., 0., 0., 0., 0., 0., 0., 0., 0., 0., 0., 0., 0., 0., 0., 0.,\n",
      "        0., 0., 0., 0., 0., 0., 0., 0., 0., 0., 0., 0., 0., 0., 0., 0., 0., 0.,\n",
      "        0., 0., 0., 0., 0., 0., 0., 0., 0., 0., 0., 0., 0., 0., 0., 0., 0., 0.,\n",
      "        0., 0., 0., 0., 0., 0., 0., 0., 0., 0., 0., 0., 0., 0., 0., 0., 0., 0.,\n",
      "        0., 0., 0., 0., 0., 0., 0., 0., 0., 0., 0., 0., 0., 0., 0., 0., 0., 0.,\n",
      "        0., 0., 0., 0., 0., 0., 0., 0., 0., 0., 0., 0., 0., 0., 0., 0., 0., 0.,\n",
      "        0., 0., 0., 0., 0., 0., 0., 0., 0., 0., 0., 0., 0., 0., 0., 0., 0., 0.,\n",
      "        0., 0., 0., 0., 0., 0., 0., 0., 0., 0., 0., 0., 0., 0., 0., 0., 0., 0.,\n",
      "        0., 0., 0., 0., 0., 0., 0., 0., 0., 0., 0., 0., 0., 0., 0., 0., 0., 0.,\n",
      "        0., 0., 0., 0., 0., 0., 0., 0., 0., 0., 0., 0., 0., 0., 0., 0., 0., 0.,\n",
      "        0., 0., 0., 0., 0., 0., 0., 0., 0., 0., 0., 0., 0., 0., 0., 0., 0., 0.,\n",
      "        0., 0., 0., 0., 0., 0., 0., 0., 0., 0., 0., 0., 0., 0., 0., 0., 0., 0.,\n",
      "        0., 0., 0., 0., 0., 0., 0., 0., 0., 0., 0., 0., 0., 0., 0., 0., 0., 0.,\n",
      "        0., 0., 0., 0., 0., 0., 0., 0., 0., 0., 0., 0., 0., 0., 0., 0., 0., 0.,\n",
      "        0., 0., 0., 0., 0., 0., 0., 0., 0., 0., 0., 0., 0., 0., 0., 0., 0., 0.,\n",
      "        0., 0., 0., 0., 0., 0., 0., 0., 0., 0., 0., 0., 0., 0., 0., 0.])}\n"
     ]
    }
   ],
   "source": [
    "all_notes_list = list(all_notes.keys())\n",
    "\n",
    "def multi_hot(notes):\n",
    "    indices = torch.tensor([all_notes_list.index(n) for n in notes])\n",
    "    if len(indices) == 0:\n",
    "        # Occurs when the notes in the pair were removed due to infrequency.\n",
    "        raise AttributeError(\"Found no valid notes.\")\n",
    "    one_hots = torch.nn.functional.one_hot(indices, len(all_notes))\n",
    "    return one_hots.sum(dim=0).float()\n",
    "\n",
    "for mol in molecules:\n",
    "    mol[\"encoding\"] = multi_hot(mol[\"notes\"])\n",
    "\n",
    "print(molecules[0])"
   ]
  },
  {
   "cell_type": "code",
   "execution_count": 39,
   "id": "840d7b8e-90e7-4e52-91b2-20acecc0fc27",
   "metadata": {},
   "outputs": [],
   "source": [
    "SOM = collections.namedtuple(\"SOM\",[\"vectors\",\"idxs\"])\n",
    "\n",
    "def make_som(width,height):\n",
    "    somap = torch.rand((width,height,len(all_notes)))\n",
    "\n",
    "    map_x_idx, map_y_idx = torch.meshgrid(torch.arange(start=0,end=width), torch.arange(start=0,end=height), indexing='ij')\n",
    "    map_idx = torch.stack([map_x_idx,map_y_idx],dim=-1)\n",
    "\n",
    "    return SOM(somap,map_idx)\n"
   ]
  },
  {
   "cell_type": "code",
   "execution_count": 76,
   "id": "cf981de9-7101-4ef8-b4de-f90c0222ecb1",
   "metadata": {},
   "outputs": [],
   "source": [
    "def get_activations(som,encoding):\n",
    "    return torch.nn.functional.cosine_similarity(encoding, som.vectors, dim=-1)\n",
    "    \n",
    "def get_bmu(som,encoding):\n",
    "    actvtn = get_activations(som,encoding)\n",
    "    bmu_idx = (actvtn==torch.max(actvtn)).nonzero()\n",
    "    return bmu_idx[0]\n",
    "\n",
    "def get_score(som,encoding):\n",
    "    actvtn = get_activations(som,encoding)\n",
    "    return torch.max(actvtn)\n",
    "\n",
    "def get_distances(som,bmu):\n",
    "    xy_dist = som.idxs - bmu\n",
    "    return torch.sum(torch.abs(xy_dist),dim=-1)\n",
    "\n",
    "def update_factor(som,bmu):\n",
    "    dists = get_distances(som,bmu)\n",
    "    return torch.pow(1/2,dists)\n",
    "\n",
    "def get_deltas(som,encoding):\n",
    "    return encoding-som.vectors\n",
    "\n",
    "def update_som(som,encoding,lr):\n",
    "    bmu = get_bmu(som,encoding)\n",
    "    uf = update_factor(som,bmu)\n",
    "    deltas = get_deltas(som,encoding)\n",
    "    return SOM(som.vectors + lr*uf.unsqueeze(-1)*deltas, som.idxs)\n",
    "\n",
    "mm = make_som(3,2)\n",
    "e0 = molecules[0][\"encoding\"]\n",
    "bmu0 = get_bmu(mm,e0)\n",
    "# When we do the update with lr=1, we expect the bmu to updated to the encoding\n",
    "mp0 = update_som(mm,e0,1)\n",
    "assert torch.all(mp0.vectors[bmu0[0],bmu0[1]] == e0)"
   ]
  },
  {
   "cell_type": "code",
   "execution_count": 61,
   "id": "ff105742-3aa7-4b74-86c6-cc354c573e9d",
   "metadata": {},
   "outputs": [],
   "source": [
    "train_mols, test_mols = sklearn.model_selection.train_test_split(molecules)\n",
    "# epochs = 1\n",
    "# lr = 1e-1\n",
    "\n",
    "def do_train(config,verbose=False):\n",
    "    total_steps = config[\"epochs\"]*len(train_mols)\n",
    "    lrs = []\n",
    "    scores = []\n",
    "\n",
    "    som = make_som(config[\"width\"],config[\"height\"])\n",
    "    \n",
    "    def do_train_step(s):\n",
    "        slr = config[\"lr\"]*(1 - (s/total_steps))\n",
    "        mol = random.choice(train_mols)\n",
    "        return update_som(som,mol[\"encoding\"],slr)\n",
    "    \n",
    "    def get_test_score():\n",
    "        es = []\n",
    "        for mol in test_mols:\n",
    "            es.append(get_score(som,mol[\"encoding\"]))\n",
    "        return np.mean(es)\n",
    "    \n",
    "    for s in tqdm.tqdm(range(total_steps),smoothing=0, disable=not verbose):\n",
    "        som = do_train_step(s)\n",
    "        if s % 100 == 0:\n",
    "            scores.append(get_test_score())\n",
    "\n",
    "    return som, scores"
   ]
  },
  {
   "cell_type": "code",
   "execution_count": 74,
   "id": "449624d9-ccd5-4bfc-a314-82f1b0055295",
   "metadata": {},
   "outputs": [
    {
     "name": "stderr",
     "output_type": "stream",
     "text": [
      " 12%|█████▋                                       | 1/8 [00:00<00:03,  1.99it/s]"
     ]
    },
    {
     "name": "stdout",
     "output_type": "stream",
     "text": [
      "Config = {'width': 5, 'height': 4, 'epochs': 1, 'lr': 1}. Score = 0.41\n"
     ]
    },
    {
     "name": "stderr",
     "output_type": "stream",
     "text": [
      " 25%|███████████▎                                 | 2/8 [00:00<00:02,  2.14it/s]"
     ]
    },
    {
     "name": "stdout",
     "output_type": "stream",
     "text": [
      "Config = {'width': 5, 'height': 4, 'epochs': 1, 'lr': 0.1}. Score = 0.43\n"
     ]
    },
    {
     "name": "stderr",
     "output_type": "stream",
     "text": [
      " 38%|████████████████▉                            | 3/8 [00:05<00:12,  2.51s/it]"
     ]
    },
    {
     "name": "stdout",
     "output_type": "stream",
     "text": [
      "Config = {'width': 5, 'height': 4, 'epochs': 10, 'lr': 1}. Score = 0.43\n"
     ]
    },
    {
     "name": "stderr",
     "output_type": "stream",
     "text": [
      " 50%|██████████████████████▌                      | 4/8 [00:11<00:14,  3.59s/it]"
     ]
    },
    {
     "name": "stdout",
     "output_type": "stream",
     "text": [
      "Config = {'width': 5, 'height': 4, 'epochs': 10, 'lr': 0.1}. Score = 0.44\n"
     ]
    },
    {
     "name": "stderr",
     "output_type": "stream",
     "text": [
      " 62%|████████████████████████████▏                | 5/8 [00:19<00:15,  5.23s/it]"
     ]
    },
    {
     "name": "stdout",
     "output_type": "stream",
     "text": [
      "Config = {'width': 25, 'height': 20, 'epochs': 1, 'lr': 1}. Score = 0.58\n"
     ]
    },
    {
     "name": "stderr",
     "output_type": "stream",
     "text": [
      " 75%|█████████████████████████████████▊           | 6/8 [00:27<00:12,  6.17s/it]"
     ]
    },
    {
     "name": "stdout",
     "output_type": "stream",
     "text": [
      "Config = {'width': 25, 'height': 20, 'epochs': 1, 'lr': 0.1}. Score = 0.50\n"
     ]
    },
    {
     "name": "stderr",
     "output_type": "stream",
     "text": [
      " 88%|███████████████████████████████████████▍     | 7/8 [01:47<00:30, 30.41s/it]"
     ]
    },
    {
     "name": "stdout",
     "output_type": "stream",
     "text": [
      "Config = {'width': 25, 'height': 20, 'epochs': 10, 'lr': 1}. Score = 0.61\n"
     ]
    },
    {
     "name": "stderr",
     "output_type": "stream",
     "text": [
      "100%|█████████████████████████████████████████████| 8/8 [06:26<00:00, 48.36s/it]"
     ]
    },
    {
     "name": "stdout",
     "output_type": "stream",
     "text": [
      "Config = {'width': 25, 'height': 20, 'epochs': 10, 'lr': 0.1}. Score = 0.60\n"
     ]
    },
    {
     "name": "stderr",
     "output_type": "stream",
     "text": [
      "\n"
     ]
    },
    {
     "data": {
      "image/png": "[encoded data removed]",
      "text/plain": [
       "<Figure size 640x480 with 8 Axes>"
      ]
     },
     "metadata": {},
     "output_type": "display_data"
    }
   ],
   "source": [
    "trials = [{\"width\":5,\"height\":4,\"epochs\":1,\"lr\":1},\n",
    "          {\"width\":5,\"height\":4,\"epochs\":1,\"lr\":1e-1},\n",
    "          {\"width\":5,\"height\":4,\"epochs\":10,\"lr\":1},\n",
    "          {\"width\":5,\"height\":4,\"epochs\":10,\"lr\":1e-1},\n",
    "          {\"width\":25,\"height\":20,\"epochs\":1,\"lr\":1},\n",
    "          {\"width\":25,\"height\":20,\"epochs\":1,\"lr\":1e-1},\n",
    "          {\"width\":25,\"height\":20,\"epochs\":10,\"lr\":1},\n",
    "          {\"width\":25,\"height\":20,\"epochs\":10,\"lr\":1e-1}]\n",
    "\n",
    "h = 4\n",
    "fig, axs = plt.subplots(2,h)\n",
    "for i, t in enumerate(tqdm.tqdm(trials)):\n",
    "    _, scores = do_train(t)\n",
    "    x = int(i/h)\n",
    "    y = i%h\n",
    "    ax = axs[x,y]\n",
    "    ax.set_ylim(0, 1)\n",
    "    ax.plot(scores)\n",
    "    print(f\"Config = {t}. Score = {scores[-1]:.2f}\")\n",
    "    ax.set_title(f\"Trial = {i}. Score = {scores[-1]:.2f}\")\n",
    "\n",
    "fig.tight_layout()\n",
    "plt.show()"
   ]
  },
  {
   "cell_type": "code",
   "execution_count": null,
   "id": "c30bd47d-21bf-45f3-8992-1ffb26f0a255",
   "metadata": {},
   "outputs": [
    {
     "name": "stderr",
     "output_type": "stream",
     "text": [
      " 19%|███████▌                                | 490/2580 [00:29<02:06, 16.51it/s]"
     ]
    }
   ],
   "source": [
    "som, scores = do_train({'width': 25*4, 'height': 20*4, 'epochs': 1, 'lr': 1},verbose=True)"
   ]
  },
  {
   "cell_type": "code",
   "execution_count": null,
   "id": "d0cd8feb-6cac-486f-a4ac-c16f91efebff",
   "metadata": {},
   "outputs": [],
   "source": [
    "def flatten(mtrx):\n",
    "    return mtrx.reshape((mtrx.shape[0]*mtrx.shape[1],-1)).squeeze()\n",
    "\n",
    "\n",
    "pos = flatten(som.idxs).numpy()\n",
    "act = flatten(get_activations(som,molecules[0][\"encoding\"]))\n",
    "plt.title(f\"Map for {molecules[0]['name']} w/ notes = {molecules[0]['notes']}\")\n",
    "plt.scatter(pos[:,0],pos[:,1],s=100*act.numpy())\n",
    "plt.show()\n",
    "\n",
    "act = flatten(get_activations(som,multi_hot([\"musk\"])))\n",
    "plt.title(\"Map for \\'musk\\'\")\n",
    "plt.scatter(pos[:,0],pos[:,1],s=100*act.numpy())\n",
    "plt.show()\n"
   ]
  }
 ],
 "metadata": {
  "kernelspec": {
   "display_name": "Python 3 (ipykernel)",
   "language": "python",
   "name": "python3"
  },
  "language_info": {
   "codemirror_mode": {
    "name": "ipython",
    "version": 3
   },
   "file_extension": ".py",
   "mimetype": "text/x-python",
   "name": "python",
   "nbconvert_exporter": "python",
   "pygments_lexer": "ipython3",
   "version": "3.11.5"
  }
 },
 "nbformat": 4,
 "nbformat_minor": 5
}
