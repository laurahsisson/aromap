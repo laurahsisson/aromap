{
 "cells": [
  {
   "cell_type": "code",
   "execution_count": 1,
   "id": "82f39936-8f18-4c63-a6ff-68b803a82c5b",
   "metadata": {},
   "outputs": [],
   "source": [
    "import torch"
   ]
  },
  {
   "cell_type": "code",
   "execution_count": 7,
   "id": "adb04579-9ef9-44d9-a6bb-00c919dd6450",
   "metadata": {},
   "outputs": [
    {
     "name": "stdout",
     "output_type": "stream",
     "text": [
      "tensor([4, 5])\n"
     ]
    }
   ],
   "source": [
    "x = torch.FloatTensor([0,0,0,1,2,2])\n",
    "\n",
    "\n",
    "# Create a mask for elements equal to the top value\n",
    "mask = torch.eq(x, torch.topk(x,k=1).values[0])\n",
    "\n",
    "# Get the indices where the mask is True\n",
    "indices_of_top_values = torch.nonzero(mask).squeeze()\n",
    "print(indices_of_top_values)"
   ]
  },
  {
   "cell_type": "code",
   "execution_count": 68,
   "id": "e5dd60cc-749f-4558-8c60-6e5b8f6e5daa",
   "metadata": {},
   "outputs": [
    {
     "name": "stdout",
     "output_type": "stream",
     "text": [
      "tensor([2., 2., 1., 0.])\n",
      "Top value: 2.0\n",
      "Indices of top values: [0, 1, 2]\n",
      "Randomly selected index: 2\n"
     ]
    }
   ],
   "source": [
    "\n",
    "# Get the top k values and indices\n",
    "k = 4\n",
    "top_values, top_indices = torch.topk(x, k)\n",
    "\n",
    "# Create a mask for elements equal to the top value\n",
    "print(top_values)\n",
    "mask = torch.eq(x, top_values[k-1])\n",
    "\n",
    "# Get the indices where the mask is True\n",
    "indices_of_top_values = torch.nonzero(mask).squeeze()\n",
    "\n",
    "# Randomly pick one index\n",
    "if indices_of_top_values.shape:\n",
    "    random_index = torch.multinomial(torch.ones_like(indices_of_top_values, dtype=torch.float32), 1).item()\n",
    "    \n",
    "    selected_index = indices_of_top_values[random_index]\n",
    "else:\n",
    "    selected_index = indices_of_top_values\n",
    "print(\"Top value:\", top_values[0].item())\n",
    "print(\"Indices of top values:\", indices_of_top_values.tolist())\n",
    "print(\"Randomly selected index:\", selected_index.item())"
   ]
  },
  {
   "cell_type": "code",
   "execution_count": 314,
   "id": "3708a544-2bf8-4f20-a9d0-9666f8436c4e",
   "metadata": {},
   "outputs": [],
   "source": [
    "y = torch.FloatTensor([[0,0,0,1,2,2],[2,2,4,5,7,8]])"
   ]
  },
  {
   "cell_type": "code",
   "execution_count": 512,
   "id": "c8e891b6-1f4c-4fd3-ac8d-fef3eef1d3a3",
   "metadata": {},
   "outputs": [
    {
     "name": "stdout",
     "output_type": "stream",
     "text": [
      "tensor([[4],\n",
      "        [5]])\n"
     ]
    }
   ],
   "source": [
    "y = torch.FloatTensor([[0,0,0,1,2,2],[2,2,4,5,7,8]])\n",
    "k = 1\n",
    "top_values, top_indices = torch.topk(y, k,dim=1)\n",
    "print(top_indices)"
   ]
  },
  {
   "cell_type": "code",
   "execution_count": 540,
   "id": "807fd9ad-4307-4323-be8b-11e7bf5221f3",
   "metadata": {},
   "outputs": [
    {
     "name": "stdout",
     "output_type": "stream",
     "text": [
      "Original Matrix:\n",
      " tensor([[0., 0., 0., 1., 2., 2.],\n",
      "        [2., 2., 4., 5., 7., 8.]])\n",
      "Permuted Matrix:\n",
      " tensor([[1., 2., 0., 0., 2., 0.],\n",
      "        [5., 7., 2., 4., 8., 2.]])\n",
      "Permutation Mapping:\n",
      " tensor([3, 4, 1, 2, 5, 0])\n"
     ]
    }
   ],
   "source": [
    "# Generate a random permutation of column indices\n",
    "permuted_indices = torch.randperm(y.shape[1])\n",
    "\n",
    "# Permute the columns of the matrix\n",
    "permuted_matrix = y[:, permuted_indices]\n",
    "\n",
    "print(\"Original Matrix:\\n\", y)\n",
    "print(\"Permuted Matrix:\\n\", permuted_matrix)\n",
    "print(\"Permutation Mapping:\\n\", permuted_indices)"
   ]
  },
  {
   "cell_type": "code",
   "execution_count": 865,
   "id": "2db14edd-97b1-43a8-a0c2-9fabbb67136d",
   "metadata": {},
   "outputs": [
    {
     "name": "stdout",
     "output_type": "stream",
     "text": [
      "Original Matrix:\n",
      " tensor([[0., 0., 0., 1., 2., 2.],\n",
      "        [2., 2., 4., 5., 7., 8.]])\n",
      "Permuted Matrix:\n",
      " tensor([[0., 2., 0., 0., 2., 1.],\n",
      "        [4., 2., 5., 7., 8., 2.]])\n",
      "Permutation Mapping:\n",
      " tensor([[0, 4, 1, 2, 5, 3],\n",
      "        [2, 1, 3, 4, 5, 0]])\n",
      "Inverse Mapping:\n",
      " tensor([[0, 2, 3, 5, 1, 4],\n",
      "        [5, 1, 0, 2, 3, 4]])\n",
      "Original After Inversion:\n",
      " tensor([[0., 0., 0., 1., 2., 2.],\n",
      "        [2., 2., 4., 5., 7., 8.]])\n",
      "Top Values:\n",
      " tensor([[2., 2.],\n",
      "        [8., 7.]])\n",
      "All Top Indices:\n",
      " tensor([[1, 4],\n",
      "        [4, 3]]) torch.Size([2, 2])\n",
      "Top Indices:\n",
      " tensor([[4],\n",
      "        [3]]) torch.Size([2, 1])\n",
      "Original Top:\n",
      " tensor([[5],\n",
      "        [4]])\n"
     ]
    }
   ],
   "source": [
    "# This can be done once\n",
    "permuted_indices = torch.stack([torch.randperm(y.shape[1]) for _ in range(y.shape[0])])\n",
    "# Permute the columns of the matrix\n",
    "permuted_matrix = torch.gather(y,1,permuted_indices)\n",
    "\n",
    "print(\"Original Matrix:\\n\", y)\n",
    "print(\"Permuted Matrix:\\n\", permuted_matrix)\n",
    "print(\"Permutation Mapping:\\n\", permuted_indices)\n",
    "\n",
    "\n",
    "\n",
    "# Invert the permutation\n",
    "inverse_permuted_indices = torch.argsort(permuted_indices)\n",
    "print(\"Inverse Mapping:\\n\", inverse_permuted_indices)\n",
    "print(\"Original After Inversion:\\n\", torch.gather(permuted_matrix,1,inverse_permuted_indices))\n",
    "\n",
    "k = 2\n",
    "top_values, top_indices = torch.topk(permuted_matrix,k)\n",
    "print(\"Top Values:\\n\", top_values)\n",
    "print(\"All Top Indices:\\n\", top_indices,top_indices.shape)\n",
    "top_indices = top_indices[:,k-1:k]\n",
    "print(\"Top Indices:\\n\", top_indices,top_indices.shape)\n",
    "\n",
    "print(\"Original Top:\\n\", torch.gather(permuted_indices,1,top_indices))\n",
    "# print(\"Original Top:\\n\", permuted_indices[:,top_indices])"
   ]
  },
  {
   "cell_type": "code",
   "execution_count": 1010,
   "id": "75856c81-c34a-40fe-bf64-30badf5a033e",
   "metadata": {},
   "outputs": [
    {
     "name": "stdout",
     "output_type": "stream",
     "text": [
      "Original Matrix:\n",
      " tensor([[0., 0., 0., 1., 2., 2.],\n",
      "        [2., 2., 4., 5., 7., 8.]])\n",
      "Permuted Matrix:\n",
      " tensor([[2., 0., 0., 1., 2., 0.],\n",
      "        [2., 2., 4., 5., 8., 7.]])\n",
      "Permutation Mapping:\n",
      " tensor([[5, 1, 2, 3, 4, 0],\n",
      "        [1, 0, 2, 3, 5, 4]])\n",
      "Inverse Mapping:\n",
      " tensor([[5, 1, 2, 3, 4, 0],\n",
      "        [1, 0, 2, 3, 5, 4]])\n",
      "Original After Inversion:\n",
      " tensor([[0., 0., 0., 1., 2., 2.],\n",
      "        [2., 2., 4., 5., 7., 8.]])\n",
      "Top Values:\n",
      " tensor([[2., 2., 1., 0.],\n",
      "        [8., 7., 5., 4.]])\n",
      "All Top Indices:\n",
      " tensor([[0, 4, 3, 2],\n",
      "        [4, 5, 3, 2]]) torch.Size([2, 4])\n",
      "Top Indices:\n",
      " tensor([2, 2]) torch.Size([2])\n",
      "Original Top:\n",
      " tensor([2, 2]) torch.Size([2])\n"
     ]
    }
   ],
   "source": [
    "# This can be done once\n",
    "permuted_indices = torch.stack([torch.randperm(y.shape[1]) for _ in range(y.shape[0])])\n",
    "# Permute the columns of the matrix\n",
    "permuted_matrix = torch.gather(y,1,permuted_indices)\n",
    "\n",
    "print(\"Original Matrix:\\n\", y)\n",
    "print(\"Permuted Matrix:\\n\", permuted_matrix)\n",
    "print(\"Permutation Mapping:\\n\", permuted_indices)\n",
    "\n",
    "\n",
    "\n",
    "# Invert the permutation\n",
    "inverse_permuted_indices = torch.argsort(permuted_indices)\n",
    "print(\"Inverse Mapping:\\n\", inverse_permuted_indices)\n",
    "print(\"Original After Inversion:\\n\", torch.gather(permuted_matrix,1,inverse_permuted_indices))\n",
    "\n",
    "k = 4\n",
    "top_values, top_indices = torch.topk(permuted_matrix,k)\n",
    "print(\"Top Values:\\n\", top_values)\n",
    "print(\"All Top Indices:\\n\", top_indices,top_indices.shape)\n",
    "# top_indices = top_indices[:,k-1:k]\n",
    "# print(\"Top Indices:\\n\", top_indices,top_indices.shape)\n",
    "\n",
    "# print(\"Original Top:\\n\", torch.gather(permuted_indices,1,top_indices),torch.gather(permuted_indices,1,top_indices).shape)\n",
    "\n",
    "\n",
    "top_indices = top_indices[:,k-1]\n",
    "print(\"Top Indices:\\n\", top_indices,top_indices.shape)\n",
    "\n",
    "ot =  permuted_indices[torch.arange(permuted_indices.size(0)), top_indices]\n",
    "print(\"Original Top:\\n\", ot,ot.shape)\n",
    "\n",
    "# print(\"Original Top:\\n\", permuted_indices[:,top_indices])"
   ]
  },
  {
   "cell_type": "code",
   "execution_count": 576,
   "id": "db16df02-97a3-4160-9ed6-36fd8696eb07",
   "metadata": {},
   "outputs": [
    {
     "name": "stdout",
     "output_type": "stream",
     "text": [
      "tensor([[0],\n",
      "        [1],\n",
      "        [2],\n",
      "        [3],\n",
      "        [4],\n",
      "        [5]])\n",
      "tensor([[1, 0],\n",
      "        [0, 1],\n",
      "        [0, 1],\n",
      "        [0, 1],\n",
      "        [1, 0],\n",
      "        [0, 1]])\n"
     ]
    },
    {
     "ename": "IndexError",
     "evalue": "index 2 is out of bounds for dimension 0 with size 2",
     "output_type": "error",
     "traceback": [
      "\u001b[0;31m---------------------------------------------------------------------------\u001b[0m",
      "\u001b[0;31mIndexError\u001b[0m                                Traceback (most recent call last)",
      "Cell \u001b[0;32mIn[576], line 10\u001b[0m\n\u001b[1;32m      8\u001b[0m \u001b[38;5;28mprint\u001b[39m(row_indices)\n\u001b[1;32m      9\u001b[0m \u001b[38;5;28mprint\u001b[39m(permuted_indices)\n\u001b[0;32m---> 10\u001b[0m permuted_matrix \u001b[38;5;241m=\u001b[39m y[row_indices, permuted_indices]\n\u001b[1;32m     12\u001b[0m \u001b[38;5;28mprint\u001b[39m(\u001b[38;5;124m\"\u001b[39m\u001b[38;5;124mOriginal Matrix:\u001b[39m\u001b[38;5;130;01m\\n\u001b[39;00m\u001b[38;5;124m\"\u001b[39m, matrix)\n\u001b[1;32m     13\u001b[0m \u001b[38;5;28mprint\u001b[39m(\u001b[38;5;124m\"\u001b[39m\u001b[38;5;124mPermuted Matrix:\u001b[39m\u001b[38;5;130;01m\\n\u001b[39;00m\u001b[38;5;124m\"\u001b[39m, permuted_matrix)\n",
      "\u001b[0;31mIndexError\u001b[0m: index 2 is out of bounds for dimension 0 with size 2"
     ]
    }
   ],
   "source": [
    "# Generate a random permutation of column indices for all rows\n",
    "permuted_indices = torch.stack([torch.randperm(y.shape[0]) for _ in range(y.shape[1])])\n",
    "\n",
    "# Create a tensor of row indices for indexing along rows\n",
    "row_indices = torch.arange(y.shape[1]).view(-1, 1)\n",
    "\n",
    "# Use the indices to permute the columns of the matrix\n",
    "print(row_indices)\n",
    "print(permuted_indices)\n",
    "permuted_matrix = y[row_indices, permuted_indices]\n",
    "\n",
    "print(\"Original Matrix:\\n\", matrix)\n",
    "print(\"Permuted Matrix:\\n\", permuted_matrix)\n",
    "print(\"Permutation Mapping:\\n\", permuted_indices)"
   ]
  },
  {
   "cell_type": "code",
   "execution_count": 147,
   "id": "67ecc48e-acd8-420a-afb3-455dc3ade0eb",
   "metadata": {},
   "outputs": [
    {
     "name": "stdout",
     "output_type": "stream",
     "text": [
      "tensor([[0, 4],\n",
      "        [0, 5],\n",
      "        [1, 5]])\n",
      "Top values:\n",
      " tensor([[2.],\n",
      "        [8.]])\n",
      "Indices of top values:\n",
      " tensor([[0, 4],\n",
      "        [0, 5],\n",
      "        [1, 5]])\n",
      "Randomly selected indices:\n",
      " tensor([[0]])\n"
     ]
    }
   ],
   "source": [
    "# Get the top k values and indices\n",
    "top_values, top_indices = torch.topk(y, k,dim=1)\n",
    "\n",
    "# Create a mask for elements equal to the top value\n",
    "mask = torch.eq(y, top_values)\n",
    "\n",
    "# Get the indices where the mask is True\n",
    "indices_of_top_values = torch.nonzero(mask)\n",
    "\n",
    "reshaped_indices = indices_of_top_values.view(k, -1, indices_of_top_values.shape[-1])\n",
    "random_indices = torch.multinomial(torch.ones_like(reshaped_indices[:, 0, 0], dtype=torch.float32), 1)\n",
    "print(indices_of_top_values)\n",
    "\n",
    "# Gather the randomly selected indices\n",
    "selected_indices = torch.gather(reshaped_indices, 1, random_indices.view(-1, 1, 1))\n",
    "\n",
    "# Squeeze the selected_indices tensor to remove any singleton dimensions\n",
    "selected_indices = selected_indices.squeeze(1)\n",
    "\n",
    "print(\"Top values:\\n\", top_values)\n",
    "print(\"Indices of top values:\\n\", indices_of_top_values)\n",
    "print(\"Randomly selected indices:\\n\", selected_indices)\n",
    "\n"
   ]
  },
  {
   "cell_type": "code",
   "execution_count": 313,
   "id": "73768d2a-bcae-4e64-b2da-508766480a99",
   "metadata": {},
   "outputs": [
    {
     "name": "stdout",
     "output_type": "stream",
     "text": [
      "U tensor([0, 1])\n",
      "I tensor([0, 0, 1])\n",
      "tensor([0])\n",
      "Original Tensor:\n",
      " tensor([[0, 4],\n",
      "        [0, 5],\n",
      "        [1, 5]])\n",
      "Selected Rows:\n",
      " tensor([[0, 4],\n",
      "        [0, 5]])\n"
     ]
    }
   ],
   "source": [
    "# Get the top n values and indices\n",
    "k = 1\n",
    "top_values, top_indices = torch.topk(y, k=1,dim=1)\n",
    "\n",
    "# Create a mask for elements equal to the top value\n",
    "mask = torch.eq(y, top_values)\n",
    "\n",
    "# Get the indices where the mask is True\n",
    "top_indices = torch.nonzero(mask)\n",
    "\n",
    "# Get unique values in the first column\n",
    "unique_values, inverse_indices = torch.unique(top_indices[:, 0], return_inverse=True)\n",
    "\n",
    "print(\"U\",unique_values)\n",
    "print(\"I\",inverse_indices)\n",
    "# Randomly select one row for each unique value\n",
    "random_indices = torch.randint(0, torch.max(torch.bincount(inverse_indices)), (1,))\n",
    "print(random_indices)\n",
    "\n",
    "# Use the random indices to select rows\n",
    "result_tensor = top_indices[inverse_indices == unique_values[random_indices]]\n",
    "\n",
    "print(\"Original Tensor:\\n\", top_indices)\n",
    "print(\"Selected Rows:\\n\", result_tensor)"
   ]
  },
  {
   "cell_type": "code",
   "execution_count": null,
   "id": "d26eb26c-6609-4dbf-a276-06ab57264175",
   "metadata": {},
   "outputs": [],
   "source": [
    "# selected_indices = torch.gather(reshaped_indices, 2, random_indices.unsqueeze(2))\n",
    "\n",
    "# # Squeeze the selected_indices tensor to remove any singleton dimensions\n",
    "# selected_indices = selected_indices.squeeze(2)\n",
    "\n",
    "# print(\"Top values:\\n\", top_values)\n",
    "# print(\"Indices of top values:\\n\", indices_of_top_values)\n",
    "# print(\"Randomly selected indices:\\n\", selected_indices)\n",
    "\n",
    "\n",
    "# # Randomly pick one index for each row\n",
    "# random_indices = torch.multinomial(torch.ones_like(reshaped_indices[:, 0], dtype=torch.float32), 1)\n",
    "\n",
    "# # Gather the randomly selected indices\n",
    "# selected_indices = torch.gather(reshaped_indices, 1, random_indices.view(-1, 1))\n",
    "\n",
    "# print(\"Top values:\\n\", top_values)\n",
    "# print(\"Indices of top values:\\n\", indices_of_top_values)\n",
    "# print(\"Randomly selected indices:\\n\", selected_indices)\n"
   ]
  },
  {
   "cell_type": "code",
   "execution_count": 408,
   "id": "9ecc30f2-da63-4395-836f-aa1d4011746e",
   "metadata": {},
   "outputs": [
    {
     "name": "stdout",
     "output_type": "stream",
     "text": [
      "tensor([[[0, 1, 2],\n",
      "         [3, 4, 5]]])\n",
      "tensor([2, 1, 0])\n",
      "tensor([[[2, 1, 0],\n",
      "         [5, 4, 3]]])\n"
     ]
    },
    {
     "ename": "IndexError",
     "evalue": "index 2 is out of bounds for dimension 0 with size 2",
     "output_type": "error",
     "traceback": [
      "\u001b[0;31m---------------------------------------------------------------------------\u001b[0m",
      "\u001b[0;31mIndexError\u001b[0m                                Traceback (most recent call last)",
      "Cell \u001b[0;32mIn[408], line 13\u001b[0m\n\u001b[1;32m     11\u001b[0m \u001b[38;5;66;03m# reverse the shuffling\u001b[39;00m\n\u001b[1;32m     12\u001b[0m idx_inv \u001b[38;5;241m=\u001b[39m torch\u001b[38;5;241m.\u001b[39msort(idx)\u001b[38;5;241m.\u001b[39mindices\n\u001b[0;32m---> 13\u001b[0m \u001b[38;5;28mprint\u001b[39m(y[:, idx_inv])\n",
      "\u001b[0;31mIndexError\u001b[0m: index 2 is out of bounds for dimension 0 with size 2"
     ]
    }
   ],
   "source": [
    "N, M, K = 1, 2, 3\n",
    "x = torch.arange(N*M*K).view(N, M, K)\n",
    "print(x)\n",
    "\n",
    "# shuffle\n",
    "idx = torch.randperm(x.size(2))\n",
    "print(idx)\n",
    "y = x[..., idx]\n",
    "print(y)\n",
    "\n",
    "# reverse the shuffling\n",
    "idx_inv = torch.sort(idx).indices\n",
    "print(y[:, idx_inv])"
   ]
  }
 ],
 "metadata": {
  "kernelspec": {
   "display_name": "Python 3 (ipykernel)",
   "language": "python",
   "name": "python3"
  },
  "language_info": {
   "codemirror_mode": {
    "name": "ipython",
    "version": 3
   },
   "file_extension": ".py",
   "mimetype": "text/x-python",
   "name": "python",
   "nbconvert_exporter": "python",
   "pygments_lexer": "ipython3",
   "version": "3.11.5"
  }
 },
 "nbformat": 4,
 "nbformat_minor": 5
}
